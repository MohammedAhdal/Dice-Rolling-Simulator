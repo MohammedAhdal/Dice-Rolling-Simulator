"""
Python 2 - Guess the Number
The program will first randomly generate an integer number between (1 -9) unknown to the user. 
The user needs to guess what that number is.
The program will compare the user's guessed number to the program's generated number
If the user guesses correctly, a positive indication appear.
If the user's guess is wrong, the program will ask the user to input another number (higher or
 lower based on the comparison)
"""
import random
## GENERATE A RANDOM INTEGER NUMBER BETWEEN 1 - 9
generated = random.randint(1, 9) 
print(F"{generated} \n")
## THE USER TO GUESS THE GENERATED NUMBER WILL INPUT A NUMBER BETWEEN 1 - 9
guessed = int(input('Guess a number between 1 - 9: '))
## COMPARE THE USER'S GUESSED NUMBER WITH THE GENERATED NUMBER
##  TO KEEP THE USER TRY GUESSING A NEW NUMBER UNTILL IT MATTCHES 
while guessed != generated: 
    print(f"Number {guessed} is WRONG, please try again !\n")
    if guessed < generated: ## IF THE GUESSED NUMBER IS LOWER THEN ASK FOR A HIGHER NUMBER
        guessed = int(input('Guess a HIGHER number: '))
    elif guessed > generated: ## IF THE GUESSED NUMBER IS HIGHER THEN ASK FOR A LOWER NUMBER
        guessed = int(input('Guess a LOWER number: '))
    else: ## THE LOOP WILL BREAK IF THE GUESS IS CORRECT AND MATCHES THE GENERATED NUMBER
        break
print('*******  CORRECT!  ********')
print(F"Generated number = {generated}")
print(F"Guessed number = {guessed}")
print('********  THE END  ********')
